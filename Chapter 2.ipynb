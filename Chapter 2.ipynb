{
 "cells": [
  {
   "cell_type": "code",
   "execution_count": 1,
   "id": "0bacbb24",
   "metadata": {},
   "outputs": [
    {
     "name": "stdout",
     "output_type": "stream",
     "text": [
      "C:\\Users\\andre\\Downloads\\Data\n"
     ]
    }
   ],
   "source": [
    "%cd \"C:\\Users\\andre\\Downloads\\Data\""
   ]
  },
  {
   "cell_type": "code",
   "execution_count": 6,
   "id": "7147cb75",
   "metadata": {},
   "outputs": [],
   "source": [
    "import numpy as np\n",
    "import pandas as pd\n",
    "import polars as pl\n",
    "from pathlib import Path\n",
    "import pyarrow as pa\n",
    "from tqdm.auto import tqdm"
   ]
  },
  {
   "cell_type": "code",
   "execution_count": 3,
   "id": "04d19e5d",
   "metadata": {},
   "outputs": [],
   "source": [
    "source_path = Path('data/london_smart_meters/')\n",
    "block_data_path = source_path / 'hhblock_dataset' / 'hhblock_dataset'"
   ]
  },
  {
   "cell_type": "code",
   "execution_count": 4,
   "id": "61726c90",
   "metadata": {},
   "outputs": [],
   "source": [
    "# Read with pandas\n",
    "block_1_pd = pd.read_csv(block_data_path / 'block_0.csv', parse_dates=False)\n",
    "\n",
    "# Read with polars\n",
    "block_1_pl = pl.read_csv(block_data_path / 'block_0.csv', try_parse_dates=False)"
   ]
  },
  {
   "cell_type": "code",
   "execution_count": null,
   "id": "d356ad30",
   "metadata": {},
   "outputs": [
    {
     "name": "stdout",
     "output_type": "stream",
     "text": [
      "74.1 ms ± 838 μs per loop (mean ± std. dev. of 7 runs, 10 loops each)\n"
     ]
    }
   ],
   "source": [
    "%timeit block_1_pd = pd.read_csv(block_data_path / 'block_0.csv', parse_dates=False)"
   ]
  },
  {
   "cell_type": "code",
   "execution_count": null,
   "id": "ec3e4f17",
   "metadata": {},
   "outputs": [
    {
     "name": "stdout",
     "output_type": "stream",
     "text": [
      "8.47 ms ± 209 μs per loop (mean ± std. dev. of 7 runs, 100 loops each)\n"
     ]
    }
   ],
   "source": [
    "%timeit block_1_pl = pl.read_csv(block_data_path / 'block_0.csv', try_parse_dates=False)"
   ]
  },
  {
   "cell_type": "code",
   "execution_count": 5,
   "id": "74ca5186",
   "metadata": {},
   "outputs": [
    {
     "data": {
      "text/html": [
       "<div><style>\n",
       ".dataframe > thead > tr,\n",
       ".dataframe > tbody > tr {\n",
       "  text-align: right;\n",
       "  white-space: pre-wrap;\n",
       "}\n",
       "</style>\n",
       "<small>shape: (5, 50)</small><table border=\"1\" class=\"dataframe\"><thead><tr><th>LCLid</th><th>day</th><th>hh_0</th><th>hh_1</th><th>hh_2</th><th>hh_3</th><th>hh_4</th><th>hh_5</th><th>hh_6</th><th>hh_7</th><th>hh_8</th><th>hh_9</th><th>hh_10</th><th>hh_11</th><th>hh_12</th><th>hh_13</th><th>hh_14</th><th>hh_15</th><th>hh_16</th><th>hh_17</th><th>hh_18</th><th>hh_19</th><th>hh_20</th><th>hh_21</th><th>hh_22</th><th>hh_23</th><th>hh_24</th><th>hh_25</th><th>hh_26</th><th>hh_27</th><th>hh_28</th><th>hh_29</th><th>hh_30</th><th>hh_31</th><th>hh_32</th><th>hh_33</th><th>hh_34</th><th>hh_35</th><th>hh_36</th><th>hh_37</th><th>hh_38</th><th>hh_39</th><th>hh_40</th><th>hh_41</th><th>hh_42</th><th>hh_43</th><th>hh_44</th><th>hh_45</th><th>hh_46</th><th>hh_47</th></tr><tr><td>str</td><td>str</td><td>f64</td><td>f64</td><td>f64</td><td>f64</td><td>f64</td><td>f64</td><td>f64</td><td>f64</td><td>f64</td><td>f64</td><td>f64</td><td>f64</td><td>f64</td><td>f64</td><td>f64</td><td>f64</td><td>f64</td><td>f64</td><td>f64</td><td>f64</td><td>f64</td><td>f64</td><td>f64</td><td>f64</td><td>f64</td><td>f64</td><td>f64</td><td>f64</td><td>f64</td><td>f64</td><td>f64</td><td>f64</td><td>f64</td><td>f64</td><td>f64</td><td>f64</td><td>f64</td><td>f64</td><td>f64</td><td>f64</td><td>f64</td><td>f64</td><td>f64</td><td>f64</td><td>f64</td><td>f64</td><td>f64</td><td>f64</td></tr></thead><tbody><tr><td>&quot;MAC000002&quot;</td><td>&quot;2012-10-13&quot;</td><td>0.263</td><td>0.269</td><td>0.275</td><td>0.256</td><td>0.211</td><td>0.136</td><td>0.161</td><td>0.119</td><td>0.167</td><td>0.109</td><td>0.168</td><td>0.107</td><td>0.166</td><td>0.117</td><td>0.157</td><td>0.126</td><td>0.146</td><td>0.106</td><td>0.135</td><td>0.191</td><td>0.915</td><td>0.933</td><td>0.122</td><td>0.138</td><td>0.076</td><td>0.133</td><td>0.076</td><td>0.133</td><td>0.085</td><td>0.263</td><td>0.134</td><td>0.235</td><td>0.124</td><td>0.184</td><td>0.23</td><td>0.176</td><td>0.388</td><td>0.26</td><td>0.918</td><td>0.278</td><td>0.267</td><td>0.239</td><td>0.23</td><td>0.233</td><td>0.235</td><td>0.188</td><td>0.259</td><td>0.25</td></tr><tr><td>&quot;MAC000002&quot;</td><td>&quot;2012-10-14&quot;</td><td>0.262</td><td>0.166</td><td>0.226</td><td>0.088</td><td>0.126</td><td>0.082</td><td>0.123</td><td>0.083</td><td>0.12</td><td>0.079</td><td>0.121</td><td>0.075</td><td>0.124</td><td>0.073</td><td>0.125</td><td>0.07</td><td>0.13</td><td>0.108</td><td>0.196</td><td>0.346</td><td>0.524</td><td>0.076</td><td>0.129</td><td>0.667</td><td>0.23</td><td>0.22</td><td>0.163</td><td>0.091</td><td>0.17</td><td>0.11</td><td>0.11</td><td>0.121</td><td>0.099</td><td>0.157</td><td>0.093</td><td>0.371</td><td>0.386</td><td>1.085</td><td>1.075</td><td>0.956</td><td>0.821</td><td>0.745</td><td>0.712</td><td>0.511</td><td>0.231</td><td>0.21</td><td>0.278</td><td>0.159</td></tr><tr><td>&quot;MAC000002&quot;</td><td>&quot;2012-10-15&quot;</td><td>0.192</td><td>0.097</td><td>0.141</td><td>0.083</td><td>0.132</td><td>0.07</td><td>0.13</td><td>0.074</td><td>0.124</td><td>0.078</td><td>0.118</td><td>0.082</td><td>0.112</td><td>0.087</td><td>0.106</td><td>0.14</td><td>0.12</td><td>1.075</td><td>0.146</td><td>0.123</td><td>0.082</td><td>0.127</td><td>0.077</td><td>0.551</td><td>0.149</td><td>0.129</td><td>0.075</td><td>0.13</td><td>0.075</td><td>0.129</td><td>0.075</td><td>0.128</td><td>0.166</td><td>0.194</td><td>0.695</td><td>0.26</td><td>0.227</td><td>0.255</td><td>1.164</td><td>0.249</td><td>0.225</td><td>0.258</td><td>0.26</td><td>0.334</td><td>0.299</td><td>0.236</td><td>0.241</td><td>0.237</td></tr><tr><td>&quot;MAC000002&quot;</td><td>&quot;2012-10-16&quot;</td><td>0.237</td><td>0.237</td><td>0.193</td><td>0.118</td><td>0.098</td><td>0.107</td><td>0.094</td><td>0.109</td><td>0.091</td><td>0.105</td><td>0.091</td><td>0.104</td><td>0.092</td><td>0.103</td><td>0.093</td><td>0.101</td><td>0.144</td><td>0.1</td><td>0.408</td><td>0.102</td><td>0.1</td><td>0.116</td><td>0.354</td><td>0.146</td><td>0.19</td><td>0.991</td><td>0.31</td><td>0.121</td><td>0.113</td><td>0.094</td><td>0.119</td><td>0.087</td><td>0.13</td><td>0.238</td><td>0.204</td><td>0.284</td><td>0.447</td><td>0.266</td><td>0.966</td><td>0.172</td><td>0.192</td><td>0.228</td><td>0.203</td><td>0.211</td><td>0.188</td><td>0.213</td><td>0.157</td><td>0.202</td></tr><tr><td>&quot;MAC000002&quot;</td><td>&quot;2012-10-17&quot;</td><td>0.157</td><td>0.211</td><td>0.155</td><td>0.169</td><td>0.101</td><td>0.117</td><td>0.084</td><td>0.118</td><td>0.08</td><td>0.119</td><td>0.075</td><td>0.123</td><td>0.071</td><td>0.126</td><td>0.067</td><td>0.124</td><td>0.118</td><td>0.132</td><td>0.358</td><td>0.628</td><td>0.784</td><td>0.681</td><td>0.749</td><td>0.593</td><td>0.502</td><td>0.115</td><td>0.113</td><td>0.092</td><td>0.124</td><td>0.084</td><td>0.125</td><td>0.078</td><td>0.136</td><td>0.227</td><td>0.207</td><td>0.141</td><td>0.258</td><td>0.217</td><td>0.223</td><td>0.075</td><td>0.23</td><td>0.208</td><td>0.265</td><td>0.377</td><td>0.327</td><td>0.277</td><td>0.288</td><td>0.256</td></tr></tbody></table></div>"
      ],
      "text/plain": [
       "shape: (5, 50)\n",
       "┌───────────┬────────────┬───────┬───────┬───┬───────┬───────┬───────┬───────┐\n",
       "│ LCLid     ┆ day        ┆ hh_0  ┆ hh_1  ┆ … ┆ hh_44 ┆ hh_45 ┆ hh_46 ┆ hh_47 │\n",
       "│ ---       ┆ ---        ┆ ---   ┆ ---   ┆   ┆ ---   ┆ ---   ┆ ---   ┆ ---   │\n",
       "│ str       ┆ str        ┆ f64   ┆ f64   ┆   ┆ f64   ┆ f64   ┆ f64   ┆ f64   │\n",
       "╞═══════════╪════════════╪═══════╪═══════╪═══╪═══════╪═══════╪═══════╪═══════╡\n",
       "│ MAC000002 ┆ 2012-10-13 ┆ 0.263 ┆ 0.269 ┆ … ┆ 0.235 ┆ 0.188 ┆ 0.259 ┆ 0.25  │\n",
       "│ MAC000002 ┆ 2012-10-14 ┆ 0.262 ┆ 0.166 ┆ … ┆ 0.231 ┆ 0.21  ┆ 0.278 ┆ 0.159 │\n",
       "│ MAC000002 ┆ 2012-10-15 ┆ 0.192 ┆ 0.097 ┆ … ┆ 0.299 ┆ 0.236 ┆ 0.241 ┆ 0.237 │\n",
       "│ MAC000002 ┆ 2012-10-16 ┆ 0.237 ┆ 0.237 ┆ … ┆ 0.188 ┆ 0.213 ┆ 0.157 ┆ 0.202 │\n",
       "│ MAC000002 ┆ 2012-10-17 ┆ 0.157 ┆ 0.211 ┆ … ┆ 0.327 ┆ 0.277 ┆ 0.288 ┆ 0.256 │\n",
       "└───────────┴────────────┴───────┴───────┴───┴───────┴───────┴───────┴───────┘"
      ]
     },
     "execution_count": 5,
     "metadata": {},
     "output_type": "execute_result"
    }
   ],
   "source": [
    "block_1_pl.head()"
   ]
  },
  {
   "cell_type": "code",
   "execution_count": 37,
   "id": "de8570fa",
   "metadata": {},
   "outputs": [
    {
     "data": {
      "text/html": [
       "<div>\n",
       "<style scoped>\n",
       "    .dataframe tbody tr th:only-of-type {\n",
       "        vertical-align: middle;\n",
       "    }\n",
       "\n",
       "    .dataframe tbody tr th {\n",
       "        vertical-align: top;\n",
       "    }\n",
       "\n",
       "    .dataframe thead th {\n",
       "        text-align: right;\n",
       "    }\n",
       "</style>\n",
       "<table border=\"1\" class=\"dataframe\">\n",
       "  <thead>\n",
       "    <tr style=\"text-align: right;\">\n",
       "      <th></th>\n",
       "      <th>LCLid</th>\n",
       "      <th>day</th>\n",
       "      <th>hh_0</th>\n",
       "      <th>hh_1</th>\n",
       "      <th>hh_2</th>\n",
       "      <th>hh_3</th>\n",
       "      <th>hh_4</th>\n",
       "      <th>hh_5</th>\n",
       "      <th>hh_6</th>\n",
       "      <th>hh_7</th>\n",
       "      <th>...</th>\n",
       "      <th>hh_38</th>\n",
       "      <th>hh_39</th>\n",
       "      <th>hh_40</th>\n",
       "      <th>hh_41</th>\n",
       "      <th>hh_42</th>\n",
       "      <th>hh_43</th>\n",
       "      <th>hh_44</th>\n",
       "      <th>hh_45</th>\n",
       "      <th>hh_46</th>\n",
       "      <th>hh_47</th>\n",
       "    </tr>\n",
       "  </thead>\n",
       "  <tbody>\n",
       "    <tr>\n",
       "      <th>0</th>\n",
       "      <td>MAC000002</td>\n",
       "      <td>2012-10-13</td>\n",
       "      <td>0.263</td>\n",
       "      <td>0.269</td>\n",
       "      <td>0.275</td>\n",
       "      <td>0.256</td>\n",
       "      <td>0.211</td>\n",
       "      <td>0.136</td>\n",
       "      <td>0.161</td>\n",
       "      <td>0.119</td>\n",
       "      <td>...</td>\n",
       "      <td>0.918</td>\n",
       "      <td>0.278</td>\n",
       "      <td>0.267</td>\n",
       "      <td>0.239</td>\n",
       "      <td>0.230</td>\n",
       "      <td>0.233</td>\n",
       "      <td>0.235</td>\n",
       "      <td>0.188</td>\n",
       "      <td>0.259</td>\n",
       "      <td>0.250</td>\n",
       "    </tr>\n",
       "    <tr>\n",
       "      <th>1</th>\n",
       "      <td>MAC000002</td>\n",
       "      <td>2012-10-14</td>\n",
       "      <td>0.262</td>\n",
       "      <td>0.166</td>\n",
       "      <td>0.226</td>\n",
       "      <td>0.088</td>\n",
       "      <td>0.126</td>\n",
       "      <td>0.082</td>\n",
       "      <td>0.123</td>\n",
       "      <td>0.083</td>\n",
       "      <td>...</td>\n",
       "      <td>1.075</td>\n",
       "      <td>0.956</td>\n",
       "      <td>0.821</td>\n",
       "      <td>0.745</td>\n",
       "      <td>0.712</td>\n",
       "      <td>0.511</td>\n",
       "      <td>0.231</td>\n",
       "      <td>0.210</td>\n",
       "      <td>0.278</td>\n",
       "      <td>0.159</td>\n",
       "    </tr>\n",
       "    <tr>\n",
       "      <th>2</th>\n",
       "      <td>MAC000002</td>\n",
       "      <td>2012-10-15</td>\n",
       "      <td>0.192</td>\n",
       "      <td>0.097</td>\n",
       "      <td>0.141</td>\n",
       "      <td>0.083</td>\n",
       "      <td>0.132</td>\n",
       "      <td>0.070</td>\n",
       "      <td>0.130</td>\n",
       "      <td>0.074</td>\n",
       "      <td>...</td>\n",
       "      <td>1.164</td>\n",
       "      <td>0.249</td>\n",
       "      <td>0.225</td>\n",
       "      <td>0.258</td>\n",
       "      <td>0.260</td>\n",
       "      <td>0.334</td>\n",
       "      <td>0.299</td>\n",
       "      <td>0.236</td>\n",
       "      <td>0.241</td>\n",
       "      <td>0.237</td>\n",
       "    </tr>\n",
       "    <tr>\n",
       "      <th>3</th>\n",
       "      <td>MAC000002</td>\n",
       "      <td>2012-10-16</td>\n",
       "      <td>0.237</td>\n",
       "      <td>0.237</td>\n",
       "      <td>0.193</td>\n",
       "      <td>0.118</td>\n",
       "      <td>0.098</td>\n",
       "      <td>0.107</td>\n",
       "      <td>0.094</td>\n",
       "      <td>0.109</td>\n",
       "      <td>...</td>\n",
       "      <td>0.966</td>\n",
       "      <td>0.172</td>\n",
       "      <td>0.192</td>\n",
       "      <td>0.228</td>\n",
       "      <td>0.203</td>\n",
       "      <td>0.211</td>\n",
       "      <td>0.188</td>\n",
       "      <td>0.213</td>\n",
       "      <td>0.157</td>\n",
       "      <td>0.202</td>\n",
       "    </tr>\n",
       "    <tr>\n",
       "      <th>4</th>\n",
       "      <td>MAC000002</td>\n",
       "      <td>2012-10-17</td>\n",
       "      <td>0.157</td>\n",
       "      <td>0.211</td>\n",
       "      <td>0.155</td>\n",
       "      <td>0.169</td>\n",
       "      <td>0.101</td>\n",
       "      <td>0.117</td>\n",
       "      <td>0.084</td>\n",
       "      <td>0.118</td>\n",
       "      <td>...</td>\n",
       "      <td>0.223</td>\n",
       "      <td>0.075</td>\n",
       "      <td>0.230</td>\n",
       "      <td>0.208</td>\n",
       "      <td>0.265</td>\n",
       "      <td>0.377</td>\n",
       "      <td>0.327</td>\n",
       "      <td>0.277</td>\n",
       "      <td>0.288</td>\n",
       "      <td>0.256</td>\n",
       "    </tr>\n",
       "  </tbody>\n",
       "</table>\n",
       "<p>5 rows × 50 columns</p>\n",
       "</div>"
      ],
      "text/plain": [
       "       LCLid        day   hh_0   hh_1   hh_2   hh_3   hh_4   hh_5   hh_6  \\\n",
       "0  MAC000002 2012-10-13  0.263  0.269  0.275  0.256  0.211  0.136  0.161   \n",
       "1  MAC000002 2012-10-14  0.262  0.166  0.226  0.088  0.126  0.082  0.123   \n",
       "2  MAC000002 2012-10-15  0.192  0.097  0.141  0.083  0.132  0.070  0.130   \n",
       "3  MAC000002 2012-10-16  0.237  0.237  0.193  0.118  0.098  0.107  0.094   \n",
       "4  MAC000002 2012-10-17  0.157  0.211  0.155  0.169  0.101  0.117  0.084   \n",
       "\n",
       "    hh_7  ...  hh_38  hh_39  hh_40  hh_41  hh_42  hh_43  hh_44  hh_45  hh_46  \\\n",
       "0  0.119  ...  0.918  0.278  0.267  0.239  0.230  0.233  0.235  0.188  0.259   \n",
       "1  0.083  ...  1.075  0.956  0.821  0.745  0.712  0.511  0.231  0.210  0.278   \n",
       "2  0.074  ...  1.164  0.249  0.225  0.258  0.260  0.334  0.299  0.236  0.241   \n",
       "3  0.109  ...  0.966  0.172  0.192  0.228  0.203  0.211  0.188  0.213  0.157   \n",
       "4  0.118  ...  0.223  0.075  0.230  0.208  0.265  0.377  0.327  0.277  0.288   \n",
       "\n",
       "   hh_47  \n",
       "0  0.250  \n",
       "1  0.159  \n",
       "2  0.237  \n",
       "3  0.202  \n",
       "4  0.256  \n",
       "\n",
       "[5 rows x 50 columns]"
      ]
     },
     "execution_count": 37,
     "metadata": {},
     "output_type": "execute_result"
    }
   ],
   "source": [
    "block_1_pd.head()"
   ]
  },
  {
   "cell_type": "code",
   "execution_count": 7,
   "id": "3862e198",
   "metadata": {},
   "outputs": [],
   "source": [
    "# convert pandas df date column from object to datetime\n",
    "block_1_pd['day'] = pd.to_datetime(block_1_pd['day'], format='%Y-%m-%d')\n",
    "\n",
    "# convert polars df date column from object to datetime\n",
    "block_1_pl = block_1_pl.with_columns(\n",
    "        pl.col('day').str.to_datetime(format='%Y-%m-%d').alias('day')\n",
    ")"
   ]
  },
  {
   "cell_type": "code",
   "execution_count": 8,
   "id": "fd2b5e95",
   "metadata": {},
   "outputs": [
    {
     "data": {
      "application/vnd.microsoft.datawrangler.viewer.v0+json": {
       "columns": [
        {
         "name": "index",
         "rawType": "int64",
         "type": "integer"
        },
        {
         "name": "day",
         "rawType": "datetime64[ns]",
         "type": "datetime"
        }
       ],
       "ref": "94d09651-b28d-4f75-8f28-1a9d0a37407b",
       "rows": [
        [
         "407",
         "2013-11-28 00:00:00"
        ],
        [
         "261",
         "2013-07-05 00:00:00"
        ],
        [
         "19",
         "2012-11-01 00:00:00"
        ],
        [
         "206",
         "2013-05-11 00:00:00"
        ],
        [
         "120",
         "2013-02-14 00:00:00"
        ],
        [
         "1270",
         "2014-01-17 00:00:00"
        ],
        [
         "1043",
         "2013-06-03 00:00:00"
        ],
        [
         "789",
         "2012-09-20 00:00:00"
        ],
        [
         "870",
         "2012-12-11 00:00:00"
        ],
        [
         "741",
         "2012-08-03 00:00:00"
        ],
        [
         "1534",
         "2012-11-05 00:00:00"
        ],
        [
         "1435",
         "2012-07-27 00:00:00"
        ],
        [
         "1396",
         "2012-06-18 00:00:00"
        ],
        [
         "1487",
         "2012-09-17 00:00:00"
        ],
        [
         "1519",
         "2012-10-21 00:00:00"
        ],
        [
         "1750",
         "2012-06-08 00:00:00"
        ],
        [
         "1803",
         "2012-07-31 00:00:00"
        ],
        [
         "1739",
         "2012-05-28 00:00:00"
        ],
        [
         "1866",
         "2012-10-02 00:00:00"
        ],
        [
         "1911",
         "2012-11-16 00:00:00"
        ],
        [
         "2217",
         "2013-06-18 00:00:00"
        ],
        [
         "2463",
         "2014-02-21 00:00:00"
        ],
        [
         "2225",
         "2013-06-26 00:00:00"
        ],
        [
         "2123",
         "2013-03-16 00:00:00"
        ],
        [
         "2319",
         "2013-09-28 00:00:00"
        ],
        [
         "2779",
         "2013-07-25 00:00:00"
        ],
        [
         "2520",
         "2012-11-08 00:00:00"
        ],
        [
         "2883",
         "2013-11-07 00:00:00"
        ],
        [
         "2870",
         "2013-10-25 00:00:00"
        ],
        [
         "2949",
         "2014-01-12 00:00:00"
        ],
        [
         "3259",
         "2013-06-17 00:00:00"
        ],
        [
         "3288",
         "2013-07-16 00:00:00"
        ],
        [
         "3334",
         "2013-08-31 00:00:00"
        ],
        [
         "3321",
         "2013-08-18 00:00:00"
        ],
        [
         "3005",
         "2012-10-01 00:00:00"
        ],
        [
         "3524",
         "2012-10-08 00:00:00"
        ],
        [
         "3780",
         "2013-06-25 00:00:00"
        ],
        [
         "3742",
         "2013-05-18 00:00:00"
        ],
        [
         "3673",
         "2013-03-10 00:00:00"
        ],
        [
         "3961",
         "2013-12-23 00:00:00"
        ],
        [
         "4290",
         "2013-06-15 00:00:00"
        ],
        [
         "4109",
         "2012-12-15 00:00:00"
        ],
        [
         "4130",
         "2013-01-06 00:00:00"
        ],
        [
         "4538",
         "2014-02-19 00:00:00"
        ],
        [
         "4505",
         "2014-01-17 00:00:00"
        ],
        [
         "4571",
         "2013-01-05 00:00:00"
        ],
        [
         "4732",
         "2013-06-16 00:00:00"
        ],
        [
         "4666",
         "2013-04-10 00:00:00"
        ],
        [
         "4777",
         "2013-07-31 00:00:00"
        ],
        [
         "4739",
         "2013-06-23 00:00:00"
        ]
       ],
       "shape": {
        "columns": 1,
        "rows": 250
       }
      },
      "text/plain": [
       "407     2013-11-28\n",
       "261     2013-07-05\n",
       "19      2012-11-01\n",
       "206     2013-05-11\n",
       "120     2013-02-14\n",
       "           ...    \n",
       "25110   2013-09-04\n",
       "24965   2012-12-02\n",
       "25280   2014-02-22\n",
       "25100   2013-08-25\n",
       "25208   2013-12-11\n",
       "Name: day, Length: 250, dtype: datetime64[ns]"
      ]
     },
     "execution_count": 8,
     "metadata": {},
     "output_type": "execute_result"
    }
   ],
   "source": [
    "# check pandas end dates of time series\n",
    "block_1_pd.groupby('LCLid')['day'].sample(5)"
   ]
  },
  {
   "cell_type": "code",
   "execution_count": 11,
   "id": "9c5d4d63",
   "metadata": {},
   "outputs": [
    {
     "data": {
      "text/html": [
       "<div><style>\n",
       ".dataframe > thead > tr,\n",
       ".dataframe > tbody > tr {\n",
       "  text-align: right;\n",
       "  white-space: pre-wrap;\n",
       "}\n",
       "</style>\n",
       "<small>shape: (5, 2)</small><table border=\"1\" class=\"dataframe\"><thead><tr><th>LCLid</th><th>day</th></tr><tr><td>str</td><td>datetime[μs]</td></tr></thead><tbody><tr><td>&quot;MAC004387&quot;</td><td>2014-02-27 00:00:00</td></tr><tr><td>&quot;MAC003482&quot;</td><td>2014-02-27 00:00:00</td></tr><tr><td>&quot;MAC000246&quot;</td><td>2014-02-27 00:00:00</td></tr><tr><td>&quot;MAC003874&quot;</td><td>2014-02-27 00:00:00</td></tr><tr><td>&quot;MAC003686&quot;</td><td>2014-02-27 00:00:00</td></tr></tbody></table></div>"
      ],
      "text/plain": [
       "shape: (5, 2)\n",
       "┌───────────┬─────────────────────┐\n",
       "│ LCLid     ┆ day                 │\n",
       "│ ---       ┆ ---                 │\n",
       "│ str       ┆ datetime[μs]        │\n",
       "╞═══════════╪═════════════════════╡\n",
       "│ MAC004387 ┆ 2014-02-27 00:00:00 │\n",
       "│ MAC003482 ┆ 2014-02-27 00:00:00 │\n",
       "│ MAC000246 ┆ 2014-02-27 00:00:00 │\n",
       "│ MAC003874 ┆ 2014-02-27 00:00:00 │\n",
       "│ MAC003686 ┆ 2014-02-27 00:00:00 │\n",
       "└───────────┴─────────────────────┘"
      ]
     },
     "execution_count": 11,
     "metadata": {},
     "output_type": "execute_result"
    }
   ],
   "source": [
    "# check polars end dates of time series\n",
    "block_1_pl.group_by(pl.col('LCLid')).agg(pl.col('day').max()).sample(5)"
   ]
  },
  {
   "cell_type": "code",
   "execution_count": null,
   "id": "cb0eccf0",
   "metadata": {},
   "outputs": [
    {
     "name": "stderr",
     "output_type": "stream",
     "text": [
      "112it [00:14,  7.49it/s]"
     ]
    },
    {
     "name": "stdout",
     "output_type": "stream",
     "text": [
      "max date across all blocks is: 2014-02-27 00:00:00\n"
     ]
    },
    {
     "name": "stderr",
     "output_type": "stream",
     "text": [
      "\n"
     ]
    }
   ],
   "source": [
    "# Check max date across all blocks with Pandas\n",
    "\n",
    "max_date = None\n",
    "\n",
    "for f in tqdm(block_data_path.glob('*.csv')):\n",
    "    df = pd.read_csv(f, parse_dates=False)\n",
    "    df['day'] = pd.to_datetime(df['day'], format='%Y-%m-%d')\n",
    "    if max_date is None:\n",
    "        max_date = df['day'].max()\n",
    "    elif df['day'].max() > max_date:\n",
    "        max_date = df['day'].max()\n",
    "        \n",
    "print(f'max date across all blocks is: {max_date}')"
   ]
  },
  {
   "cell_type": "code",
   "execution_count": null,
   "id": "a85d9b82",
   "metadata": {},
   "outputs": [
    {
     "name": "stderr",
     "output_type": "stream",
     "text": [
      "112it [00:01, 57.11it/s]"
     ]
    },
    {
     "name": "stdout",
     "output_type": "stream",
     "text": [
      "max date across all blocks is: 2014-02-27 00:00:00\n"
     ]
    },
    {
     "name": "stderr",
     "output_type": "stream",
     "text": [
      "\n"
     ]
    }
   ],
   "source": [
    "# Check max date across all blocks with Polars\n",
    "\n",
    "max_date = None\n",
    "\n",
    "for f in tqdm(block_data_path.glob('*.csv')):\n",
    "    df = pl.read_csv(f, try_parse_dates=False)\n",
    "    df = df.with_columns(\n",
    "        pl.col('day').str.to_datetime(format='%Y-%m-%d')\n",
    "        )\n",
    "    if max_date is None:\n",
    "        max_date = df.select(pl.col('day')).max().item()\n",
    "    elif df.select(pl.col('day')).max().item() > max_date:\n",
    "        max_date = df.select(pl.col('day')).max().item()\n",
    "\n",
    "print(f'max date across all blocks is: {max_date}')"
   ]
  },
  {
   "cell_type": "code",
   "execution_count": null,
   "id": "b1b5e1dc",
   "metadata": {},
   "outputs": [],
   "source": []
  }
 ],
 "metadata": {
  "kernelspec": {
   "display_name": "modern_ts_2E",
   "language": "python",
   "name": "python3"
  },
  "language_info": {
   "codemirror_mode": {
    "name": "ipython",
    "version": 3
   },
   "file_extension": ".py",
   "mimetype": "text/x-python",
   "name": "python",
   "nbconvert_exporter": "python",
   "pygments_lexer": "ipython3",
   "version": "3.12.0"
  }
 },
 "nbformat": 4,
 "nbformat_minor": 5
}
